{
 "cells": [
  {
   "cell_type": "markdown",
   "metadata": {},
   "source": [
    "## Integrantes\n",
    "\n",
    "1. \n",
    "2. \n",
    "3. \n",
    "4. "
   ]
  },
  {
   "cell_type": "markdown",
   "metadata": {},
   "source": [
    "# Instrucciones\n",
    "\n",
    "El laboratorio tiene 6 ptos, donde obtener 6 ptos equivale a un 7.0 y 0 ptos un 1.0. \n",
    "\n",
    "El formato de entrega será subir a u-cursos un Jupyter notebook\n",
    "laboratorio1.ipynb, que se debe ejecutar sin errores desde la primera celda a la última. Todo el código debe estar en el mismo notebook, el código debe estar comentado y testeado, el notebook debe estar escrito en forma de informe técnico, escribiendo una celda markdown antes o después de cada celda de código que arroja algún output. "
   ]
  },
  {
   "cell_type": "markdown",
   "metadata": {},
   "source": [
    "## 1. Implementar la clase MyMatrix  (3 ptos)\n",
    "\n",
    "En esta sección usted deberá crear:\n",
    "1. Una clase MyMatrix que sirva para almacenar matrices.\n",
    "2. Implementar los métodos descritos abajo y probarlos.\n",
    "\n",
    "Debe utilizar sólo la estructura de datos de Python por defecto (no usar liberías ni <a href=https://www.python-course.eu/python3_inheritance.php>herencia</a> )."
   ]
  },
  {
   "cell_type": "code",
   "execution_count": 67,
   "metadata": {},
   "outputs": [],
   "source": [
    "import numpy as np"
   ]
  },
  {
   "cell_type": "code",
   "execution_count": 86,
   "metadata": {},
   "outputs": [],
   "source": [
    "class MyMatrix(np.ndarray):\n",
    "    def __new__(cls, matrix):\n",
    "        obj = np.asarray(matrix).view(cls)\n",
    "        return obj"
   ]
  },
  {
   "cell_type": "markdown",
   "metadata": {},
   "source": [
    "class MyMatrix:\n",
    "\n",
    "    def __init__(self, matrix): \n",
    "        #Método para instanciar un objeto clase matriz. Debe entregar una excepción si el número de columnas de cada fila no es el mismo.\n",
    "    \n",
    "    def __str__(self): \n",
    "        #Método print. Imprime en pantalla la matriz.\n",
    "        \n",
    "    def getitem(self, row, col): \n",
    "        #Método para indexar. Retorna un elemeno de la matriz en una posición específica.\n",
    "        \n",
    "    def __len__(self): \n",
    "        #Método para calcular el largo de una matriz = número de filas.\n",
    "        \n",
    "    def shape(self): \n",
    "        #Método para calcular la dimensión de una matriz. Retorna una tupla de la forma (n_filas, n_columnas).\n",
    "    \n",
    "    def __add__(self, other): \n",
    "        #Método para sumar matrices del mismo tamaño. Debe entregar una excepción si se intenta sumar matrices de diferente tamaño.\n",
    "        \n",
    "    def __sub__(self, other): \n",
    "        #Método para restar matrices. Debe entregar una excepción si se intenta restar matrices de diferente tamaño.\n",
    "        \n",
    "    def __mul__(self, other): \n",
    "        #Método de multiplicación de matrices. Debe entregar una excepción si se intenta multiplicar matrices de tamaño no adecuado para multiplicación matricial.\n",
    "        \n",
    "   \n",
    "    def transpose(self): \n",
    "        #Método para transponer una matriz.\n",
    "        \n",
    "        \n",
    "Hint: asuma que la entrada del método init son listas de números de la forma [[1, 2, 3]] para representar un vector y [[1,2,3], [2,2,2]] para representar una matriz de dos filas y 3 columnas."
   ]
  },
  {
   "cell_type": "code",
   "execution_count": null,
   "metadata": {},
   "outputs": [],
   "source": [
    "class MyMatrix:\n",
    "\n",
    "    def __init__(self, matrix): \n",
    "        #Método para instanciar un objeto clase matriz. Debe entregar una excepción si el número de columnas de cada fila no es el mismo.\n",
    "    \n",
    "    def __str__(self): \n",
    "        #Método print. Imprime en pantalla la matriz.\n",
    "        \n",
    "    def getitem(self, row, col): \n",
    "        #Método para indexar. Retorna un elemeno de la matriz en una posición específica.\n",
    "        \n",
    "    def __len__(self): \n",
    "        #Método para calcular el largo de una matriz = número de filas.\n",
    "        \n",
    "    def shape(self): \n",
    "        #Método para calcular la dimensión de una matriz. Retorna una tupla de la forma (n_filas, n_columnas).\n",
    "    \n",
    "    def __add__(self, other): \n",
    "        #Método para sumar matrices del mismo tamaño. Debe entregar una excepción si se intenta sumar matrices de diferente tamaño.\n",
    "        \n",
    "    def __sub__(self, other): \n",
    "        #Método para restar matrices. Debe entregar una excepción si se intenta restar matrices de diferente tamaño.\n",
    "        \n",
    "    def __mul__(self, other): \n",
    "        #Método de multiplicación de matrices. Debe entregar una excepción si se intenta multiplicar matrices de tamaño no adecuado para multiplicación matricial.\n",
    "        \n",
    "   \n",
    "    def transpose(self): \n",
    "        #Método para transponer una matriz."
   ]
  },
  {
   "cell_type": "markdown",
   "metadata": {},
   "source": [
    "# 2. Implemente función de correlación (1 pto)\n",
    "\n",
    "Cree una función para calcular la covarianza entre dos vectores de tipo numpy array, considerando que la varianza muestrale viene dada por la siguiente formula:\n",
    "\n",
    "$$ corr(X, Y) = \\frac{\\sum_{i=1}^{N} (X_{i}-\\bar{X})(Y_{i}-\\bar{Y})}{\\sqrt{\\sum_{i=1}^{N}(X_{i}-\\bar{X})^{2}}\\sqrt{\\sum_{i=1}^{N}(Y_{i}-\\bar{Y})^{2}}}$$\n",
    "\n",
    "No deben usar el método mean, std, cov o similares de numpy. <br>\n",
    "Considere que X e Y son vectores de igual dimensión.\n",
    "\n",
    "def corr(x, y):\n",
    "\n",
    "    ...."
   ]
  },
  {
   "cell_type": "code",
   "execution_count": 1,
   "metadata": {},
   "outputs": [],
   "source": [
    "import numpy as np"
   ]
  },
  {
   "cell_type": "code",
   "execution_count": 2,
   "metadata": {},
   "outputs": [],
   "source": [
    "np.corrcoef"
   ]
  },
  {
   "cell_type": "markdown",
   "metadata": {},
   "source": [
    "# 3. Implemente función que generé una matriz aleatoria simétrica (1 pto)\n",
    "\n",
    "def matriz_simetrica(n):\n",
    "\n",
    "    ...\n",
    "\n",
    "n = dimensión de la matriz cuadrada"
   ]
  },
  {
   "cell_type": "code",
   "execution_count": 3,
   "metadata": {},
   "outputs": [],
   "source": [
    "import random"
   ]
  },
  {
   "cell_type": "code",
   "execution_count": 13,
   "metadata": {},
   "outputs": [
    {
     "data": {
      "text/plain": [
       "3"
      ]
     },
     "execution_count": 13,
     "metadata": {},
     "output_type": "execute_result"
    }
   ],
   "source": [
    "random.randint(1,10)"
   ]
  },
  {
   "cell_type": "code",
   "execution_count": 17,
   "metadata": {},
   "outputs": [
    {
     "data": {
      "text/plain": [
       "array([[1, 7],\n",
       "       [9, 7]])"
      ]
     },
     "execution_count": 17,
     "metadata": {},
     "output_type": "execute_result"
    }
   ],
   "source": [
    "np.random.randint(1, 10, (2,2))"
   ]
  },
  {
   "cell_type": "markdown",
   "metadata": {},
   "source": [
    "## 4. Matplotlib (1pto) \n",
    "(0.4 ptos)\n",
    "### 1. En una misma visualización dibujar (x, f) y (x, g), donde:\n",
    "1. X es un vector de 1000 muestras equiespaciadas en el intervalo [-2, 2]\n",
    "2. $f(x) = \\sqrt{1- (|x|-1)^{2}}, \\forall x \\in X $  \n",
    "3. $g(x) = -3\\sqrt{1- \\sqrt{\\frac{|x|}{2}}}, \\forall x \\in X $  \n",
    "\n",
    "(0.4 ptos)    \n",
    "### 2. En una misma visualización dibujar (x1, y1) y (x2, y1), donde:\n",
    "1. X1 es un vector de 100 muestras equi-espaciadas en el intervalo [0, 5]\n",
    "2. X2 es un vector de 100 muestras equi-espaciadas en el intervalo [0, 2] \n",
    "3. $y1 =  cos(2\\pi x1)\\exp(-x1),  \\forall x1 \\in X1$\n",
    "4. $y2 =  cos(2\\pi x2), \\forall x2 \\in X2$\n",
    "   \n",
    "(0.2 ptos)\n",
    "\n",
    "Además diseñe un estilo por defecto para los gráficos que al menos cambie colores, tamaño imagen\n",
    "y tamaño de textos ."
   ]
  },
  {
   "cell_type": "code",
   "execution_count": 18,
   "metadata": {},
   "outputs": [],
   "source": [
    "import matplotlib.pyplot as plt"
   ]
  }
 ],
 "metadata": {
  "kernelspec": {
   "display_name": "Python 3",
   "language": "python",
   "name": "python3"
  },
  "language_info": {
   "codemirror_mode": {
    "name": "ipython",
    "version": 3
   },
   "file_extension": ".py",
   "mimetype": "text/x-python",
   "name": "python",
   "nbconvert_exporter": "python",
   "pygments_lexer": "ipython3",
   "version": "3.7.3"
  },
  "latex_envs": {
   "LaTeX_envs_menu_present": true,
   "autoclose": false,
   "autocomplete": true,
   "bibliofile": "biblio.bib",
   "cite_by": "apalike",
   "current_citInitial": 1,
   "eqLabelWithNumbers": true,
   "eqNumInitial": 1,
   "hotkeys": {
    "equation": "Ctrl-E",
    "itemize": "Ctrl-I"
   },
   "labels_anchors": false,
   "latex_user_defs": false,
   "report_style_numbering": false,
   "user_envs_cfg": false
  }
 },
 "nbformat": 4,
 "nbformat_minor": 2
}
