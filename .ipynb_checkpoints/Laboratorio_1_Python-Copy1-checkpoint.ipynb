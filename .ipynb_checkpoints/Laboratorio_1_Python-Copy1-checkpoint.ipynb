{
 "cells": [
  {
   "cell_type": "markdown",
   "metadata": {},
   "source": [
    "## Integrantes\n",
    "\n",
    "1. \n",
    "2. \n",
    "3. \n",
    "4. "
   ]
  },
  {
   "cell_type": "markdown",
   "metadata": {},
   "source": [
    "# Instrucciones\n",
    "\n",
    "El laboratorio tiene 6 ptos, donde obtener 6 ptos equivale a un 7.0 y 0 ptos un 1.0. \n",
    "\n",
    "El formato de entrega será subir a u-cursos un Jupyter notebook\n",
    "laboratorio1.ipynb, que se debe ejecutar sin errores desde la primera celda a la última. Todo el código debe estar en el mismo notebook, el código debe estar comentado y testeado, el notebook debe estar escrito en forma de informe técnico, escribiendo una celda markdown antes o después de cada celda de código que arroja algún output. "
   ]
  },
  {
   "cell_type": "markdown",
   "metadata": {},
   "source": [
    "## 1. Implementar la clase MyMatrix  (3 ptos)\n",
    "\n",
    "En esta sección usted deberá crear:\n",
    "1. Una clase MyMatrix que sirva para almacenar matrices.\n",
    "2. Implementar los métodos descritos abajo y probarlos.\n",
    "\n",
    "Debe utilizar sólo la estructura de datos de Python por defecto (no usar liberías ni <a href=https://www.python-course.eu/python3_inheritance.php>herencia</a> )."
   ]
  },
  {
   "cell_type": "code",
   "execution_count": 77,
   "metadata": {},
   "outputs": [],
   "source": [
    "class MyMatrix(np.ndarray):\n",
    "    def __new__(cls, x):\n",
    "        obj = np.asarray(x).view(cls)\n",
    "        return obj"
   ]
  },
  {
   "cell_type": "markdown",
   "metadata": {},
   "source": [
    "class MyMatrix:\n",
    "\n",
    "    def __init__(self, x): \n",
    "        #Método para instanciar un objeto clase matriz. Debe entregar una excepción si el número de columnas de cada fila no es el mismo.\n",
    "    \n",
    "    def __str__(self): \n",
    "        #Método print. Imprime en pantalla la matriz.\n",
    "        \n",
    "    def getitem(self, row, col): \n",
    "        #Método para indexar. Retorna un elemeno de la matriz en una posición específica.\n",
    "        \n",
    "    def __len__(self): \n",
    "        #Método para calcular el largo de una matriz = número de filas.\n",
    "        \n",
    "    def shape(self): \n",
    "        #Método para calcular la dimensión de una matriz. Retorna una tupla de la forma (n_filas, n_columnas).\n",
    "    \n",
    "    def __add__(self, other): \n",
    "        #Método para sumar matrices del mismo tamaño. Debe entregar una excepción si se intenta sumar matrices de diferente tamaño.\n",
    "        \n",
    "    def __sub__(self, other): \n",
    "        #Método para restar matrices. Debe entregar una excepción si se intenta restar matrices de diferente tamaño.\n",
    "        \n",
    "    def __mul__(self, other): \n",
    "        #Método de multiplicación de matrices. Debe entregar una excepción si se intenta multiplicar matrices de tamaño no adecuado para multiplicación matricial.\n",
    "        \n",
    "    def transpose(self): \n",
    "        #Método para transponer una matriz.\n",
    "        \n",
    "        \n",
    "Hint: asuma que la entrada del método init son listas de números de la forma [[1, 2, 3]] para representar un vector y [[1,2,3], [2,2,2]] para representar una matriz de dos filas y 3 columnas."
   ]
  },
  {
   "cell_type": "code",
   "execution_count": 7,
   "metadata": {},
   "outputs": [
    {
     "data": {
      "text/plain": [
       "2"
      ]
     },
     "execution_count": 7,
     "metadata": {},
     "output_type": "execute_result"
    }
   ],
   "source": [
    "len(set([1,2,2]))"
   ]
  },
  {
   "cell_type": "code",
   "execution_count": 16,
   "metadata": {},
   "outputs": [
    {
     "data": {
      "text/plain": [
       "[[1, 2, 3]]"
      ]
     },
     "execution_count": 16,
     "metadata": {},
     "output_type": "execute_result"
    }
   ],
   "source": [
    "a.x"
   ]
  },
  {
   "cell_type": "code",
   "execution_count": 77,
   "metadata": {},
   "outputs": [],
   "source": [
    "a = MyMatrix([[1,2,3], [2, 2, 2]])"
   ]
  },
  {
   "cell_type": "code",
   "execution_count": 60,
   "metadata": {},
   "outputs": [
    {
     "name": "stdout",
     "output_type": "stream",
     "text": [
      "[[1, 2, 3], [2, 2, 2]]\n"
     ]
    }
   ],
   "source": [
    "print(a)"
   ]
  },
  {
   "cell_type": "code",
   "execution_count": 73,
   "metadata": {},
   "outputs": [
    {
     "data": {
      "text/plain": [
       "2"
      ]
     },
     "execution_count": 73,
     "metadata": {},
     "output_type": "execute_result"
    }
   ],
   "source": [
    "len(a)"
   ]
  },
  {
   "cell_type": "code",
   "execution_count": 69,
   "metadata": {},
   "outputs": [
    {
     "data": {
      "text/plain": [
       "2"
      ]
     },
     "execution_count": 69,
     "metadata": {},
     "output_type": "execute_result"
    }
   ],
   "source": [
    "len(a.matrix)"
   ]
  },
  {
   "cell_type": "code",
   "execution_count": 66,
   "metadata": {},
   "outputs": [
    {
     "data": {
      "text/plain": [
       "2"
      ]
     },
     "execution_count": 66,
     "metadata": {},
     "output_type": "execute_result"
    }
   ],
   "source": [
    "a.getitem(1,1)"
   ]
  },
  {
   "cell_type": "code",
   "execution_count": 78,
   "metadata": {},
   "outputs": [
    {
     "data": {
      "text/plain": [
       "(2, 3)"
      ]
     },
     "execution_count": 78,
     "metadata": {},
     "output_type": "execute_result"
    }
   ],
   "source": [
    "a.shape()"
   ]
  },
  {
   "cell_type": "code",
   "execution_count": null,
   "metadata": {},
   "outputs": [],
   "source": [
    "a"
   ]
  },
  {
   "cell_type": "code",
   "execution_count": 81,
   "metadata": {},
   "outputs": [
    {
     "data": {
      "text/plain": [
       "2"
      ]
     },
     "execution_count": 81,
     "metadata": {},
     "output_type": "execute_result"
    }
   ],
   "source": [
    "m"
   ]
  },
  {
   "cell_type": "code",
   "execution_count": 79,
   "metadata": {},
   "outputs": [],
   "source": [
    "n, m = (1,2)"
   ]
  },
  {
   "cell_type": "code",
   "execution_count": 82,
   "metadata": {},
   "outputs": [
    {
     "data": {
      "text/plain": [
       "[[0, 0], [0, 0], [0, 0]]"
      ]
     },
     "execution_count": 82,
     "metadata": {},
     "output_type": "execute_result"
    }
   ],
   "source": [
    "[[0]*2 for i in range(3)]"
   ]
  },
  {
   "cell_type": "code",
   "execution_count": 287,
   "metadata": {},
   "outputs": [],
   "source": [
    "a = MyMatrix([[1,2,3], [2,2,2]])\n",
    "b = MyMatrix([[2,3,4], [4,4,4]])\n",
    "c = MyMatrix([[2,3], [3,4], [4,5]])"
   ]
  },
  {
   "cell_type": "code",
   "execution_count": 289,
   "metadata": {},
   "outputs": [
    {
     "name": "stdout",
     "output_type": "stream",
     "text": [
      "[[1, 2], [2, 2], [3, 2]]\n"
     ]
    }
   ],
   "source": [
    "print(a.transpose())"
   ]
  },
  {
   "cell_type": "code",
   "execution_count": 286,
   "metadata": {},
   "outputs": [],
   "source": [
    "class MyMatrix:\n",
    "\n",
    "    def __init__(self, matrix): \n",
    "        \"\"\"Método para instanciar un objeto clase matriz. \n",
    "        Debe entregar una excepción si el número de columnas de cada fila no es el mismo.\"\"\"\n",
    "        \n",
    "        u_ncol =set([len(row) for row in matrix])\n",
    "        if len(u_ncol)>1:\n",
    "            raise ValueError(\"El número de columnas de cada fila debe ser el mismo para ser una matriz\")\n",
    "        else:\n",
    "            self.matrix = matrix\n",
    "\n",
    "    def __str__(self): \n",
    "        #Método print. Imprime en pantalla la matriz.\n",
    "        return str(self.matrix)    \n",
    "        \n",
    "    def getitem(self, row, col): \n",
    "        #Método para indexar. Retorna un elemeno de la matriz en una posición específica.\n",
    "        return self.matrix[row][col]\n",
    "        \n",
    "    def __len__(self): \n",
    "        #Método para calcular el largo de una matriz = número de filas.\n",
    "        return len(self.matrix)\n",
    "        \n",
    "    def shape(self): \n",
    "        #Método para calcular la dimensión de una matriz. Retorna una tupla de la forma (n_filas, n_columnas).\n",
    "        n_filas = len(self.matrix)\n",
    "        n_columnas = len(self.matrix[0])\n",
    "        return (n_filas, n_columnas)\n",
    "    \n",
    "    def __add__(self, other): \n",
    "        #Método para sumar matrices del mismo tamaño. Debe entregar una excepción si se intenta sumar matrices de diferente tamaño.\n",
    "        if self.shape() == other.shape():\n",
    "            n, m = self.shape()\n",
    "            sum_matrix = [[0]*m for i in range(n)]\n",
    "            for i in range(n):\n",
    "                for j in range(m):\n",
    "                    sum_matrix[i][j] = self.getitem(i,j)+other.getitem(i,j)\n",
    "            return MyMatrix(sum_matrix)\n",
    "        else:\n",
    "            raise ValueError(\"La dimensión de las matrices debe ser la misma\")\n",
    "        \n",
    "    def __sub__(self, other): \n",
    "        #Método para restar matrices. Debe entregar una excepción si se intenta restar matrices de diferente tamaño.\n",
    "        if self.shape() == other.shape():\n",
    "            n, m = self.shape()\n",
    "            sub_matrix = [[0]*m for i in range(n)]\n",
    "            for i in range(n):\n",
    "                for j in range(m):\n",
    "                    sub_matrix[i][j] = self.getitem(i,j)-other.getitem(i,j)\n",
    "            return MyMatrix(sub_matrix)\n",
    "        else:\n",
    "            raise ValueError(\"La dimensión de las matrices debe ser la misma\")\n",
    "    \n",
    "    def __mul__(self, other): \n",
    "        #Método de multiplicación de matrices. Debe entregar una excepción si se intenta multiplicar matrices de tamaño no adecuado para multiplicación matricial.\n",
    "        n1, m1 = self.shape()\n",
    "        n2, m2 = other.shape()\n",
    "        if m1 ==n2:\n",
    "            mult_matrix = [[0]*m2 for i in range(n1)]\n",
    "            print(mult_matrix)\n",
    "            for i in range(n1):\n",
    "                print(i)\n",
    "                for j in range(m2):\n",
    "                    print(mult_matrix[i][j])\n",
    "                    for k in range(m1):\n",
    "                        mult_matrix[i][j]+= self.getitem(i,k)*other.getitem(k,j)\n",
    "                        print(mult_matrix[i][j])\n",
    "            print(mult_matrix)\n",
    "            return MyMatrix(mult_matrix)\n",
    "        \n",
    "        else:\n",
    "            raise ValueError(\"El número de columnas de la primera matriz debe ser igual al número de filas de la segunda\")\n",
    "        \n",
    "    def transpose(self): \n",
    "        #Método para transponer una matriz.\n",
    "        n, m = self.shape()\n",
    "        t_matrix = [[0]*n for i in range(m)]\n",
    "        for i in range(m):\n",
    "            for j in range(n):\n",
    "                t_matrix[i][j] = self.getitem(j,i)\n",
    "        return MyMatrix(t_matrix)\n",
    "        "
   ]
  },
  {
   "cell_type": "code",
   "execution_count": 446,
   "metadata": {},
   "outputs": [
    {
     "ename": "ValueError",
     "evalue": "El número de columnas de cada fila debe ser el mismo para ser una matriz",
     "output_type": "error",
     "traceback": [
      "\u001b[1;31m---------------------------------------------------------------------------\u001b[0m",
      "\u001b[1;31mValueError\u001b[0m                                Traceback (most recent call last)",
      "\u001b[1;32m<ipython-input-446-4fb29199e5b4>\u001b[0m in \u001b[0;36m<module>\u001b[1;34m\u001b[0m\n\u001b[0;32m      2\u001b[0m \u001b[0mA\u001b[0m\u001b[1;33m=\u001b[0m\u001b[0mMyMatrix\u001b[0m\u001b[1;33m(\u001b[0m\u001b[1;33m[\u001b[0m\u001b[1;33m[\u001b[0m\u001b[1;36m1\u001b[0m\u001b[1;33m,\u001b[0m\u001b[1;36m2\u001b[0m\u001b[1;33m,\u001b[0m\u001b[1;36m3\u001b[0m\u001b[1;33m]\u001b[0m\u001b[1;33m]\u001b[0m\u001b[1;33m)\u001b[0m\u001b[1;33m\u001b[0m\u001b[1;33m\u001b[0m\u001b[0m\n\u001b[0;32m      3\u001b[0m \u001b[0mB\u001b[0m \u001b[1;33m=\u001b[0m \u001b[0mMyMatrix\u001b[0m\u001b[1;33m(\u001b[0m\u001b[1;33m[\u001b[0m\u001b[1;33m[\u001b[0m\u001b[1;36m2\u001b[0m\u001b[1;33m,\u001b[0m\u001b[1;36m2\u001b[0m\u001b[1;33m,\u001b[0m\u001b[1;36m2\u001b[0m\u001b[1;33m]\u001b[0m\u001b[1;33m,\u001b[0m \u001b[1;33m[\u001b[0m\u001b[1;36m3\u001b[0m\u001b[1;33m,\u001b[0m\u001b[1;36m3\u001b[0m\u001b[1;33m,\u001b[0m\u001b[1;36m3\u001b[0m\u001b[1;33m]\u001b[0m\u001b[1;33m]\u001b[0m\u001b[1;33m)\u001b[0m\u001b[1;33m\u001b[0m\u001b[1;33m\u001b[0m\u001b[0m\n\u001b[1;32m----> 4\u001b[1;33m \u001b[0mC\u001b[0m \u001b[1;33m=\u001b[0m \u001b[0mMyMatrix\u001b[0m\u001b[1;33m(\u001b[0m\u001b[1;33m[\u001b[0m\u001b[1;33m[\u001b[0m\u001b[1;36m1\u001b[0m\u001b[1;33m,\u001b[0m\u001b[1;36m2\u001b[0m\u001b[1;33m]\u001b[0m\u001b[1;33m,\u001b[0m \u001b[1;33m[\u001b[0m\u001b[1;36m2\u001b[0m\u001b[1;33m,\u001b[0m\u001b[1;36m2\u001b[0m\u001b[1;33m,\u001b[0m\u001b[1;36m3\u001b[0m\u001b[1;33m]\u001b[0m\u001b[1;33m]\u001b[0m\u001b[1;33m)\u001b[0m \u001b[1;31m# intento con dimensiones incorrectas\u001b[0m\u001b[1;33m\u001b[0m\u001b[1;33m\u001b[0m\u001b[0m\n\u001b[0m",
      "\u001b[1;32m<ipython-input-286-437866cbad4c>\u001b[0m in \u001b[0;36m__init__\u001b[1;34m(self, matrix)\u001b[0m\n\u001b[0;32m      8\u001b[0m         \u001b[0mu_ncol\u001b[0m \u001b[1;33m=\u001b[0m\u001b[0mset\u001b[0m\u001b[1;33m(\u001b[0m\u001b[1;33m[\u001b[0m\u001b[0mlen\u001b[0m\u001b[1;33m(\u001b[0m\u001b[0mrow\u001b[0m\u001b[1;33m)\u001b[0m \u001b[1;32mfor\u001b[0m \u001b[0mrow\u001b[0m \u001b[1;32min\u001b[0m \u001b[0mmatrix\u001b[0m\u001b[1;33m]\u001b[0m\u001b[1;33m)\u001b[0m\u001b[1;33m\u001b[0m\u001b[1;33m\u001b[0m\u001b[0m\n\u001b[0;32m      9\u001b[0m         \u001b[1;32mif\u001b[0m \u001b[0mlen\u001b[0m\u001b[1;33m(\u001b[0m\u001b[0mu_ncol\u001b[0m\u001b[1;33m)\u001b[0m\u001b[1;33m>\u001b[0m\u001b[1;36m1\u001b[0m\u001b[1;33m:\u001b[0m\u001b[1;33m\u001b[0m\u001b[1;33m\u001b[0m\u001b[0m\n\u001b[1;32m---> 10\u001b[1;33m             \u001b[1;32mraise\u001b[0m \u001b[0mValueError\u001b[0m\u001b[1;33m(\u001b[0m\u001b[1;34m\"El número de columnas de cada fila debe ser el mismo para ser una matriz\"\u001b[0m\u001b[1;33m)\u001b[0m\u001b[1;33m\u001b[0m\u001b[1;33m\u001b[0m\u001b[0m\n\u001b[0m\u001b[0;32m     11\u001b[0m         \u001b[1;32melse\u001b[0m\u001b[1;33m:\u001b[0m\u001b[1;33m\u001b[0m\u001b[1;33m\u001b[0m\u001b[0m\n\u001b[0;32m     12\u001b[0m             \u001b[0mself\u001b[0m\u001b[1;33m.\u001b[0m\u001b[0mmatrix\u001b[0m \u001b[1;33m=\u001b[0m \u001b[0mmatrix\u001b[0m\u001b[1;33m\u001b[0m\u001b[1;33m\u001b[0m\u001b[0m\n",
      "\u001b[1;31mValueError\u001b[0m: El número de columnas de cada fila debe ser el mismo para ser una matriz"
     ]
    }
   ],
   "source": [
    "#Método init\n",
    "A=MyMatrix([[1,2,3]])\n",
    "B = MyMatrix([[2,2,2], [3,3,3]])\n",
    "C = MyMatrix([[1,2], [2,2,3]]) # intento con dimensiones incorrectas"
   ]
  },
  {
   "cell_type": "code",
   "execution_count": 447,
   "metadata": {},
   "outputs": [
    {
     "name": "stdout",
     "output_type": "stream",
     "text": [
      "[[1, 2, 3]]\n",
      "1\n",
      "(1, 3)\n",
      "2\n",
      "[[2, 4, 6]]\n",
      "[[0, 0, 0]]\n",
      "[[1], [2], [3]]\n",
      "[[0]]\n",
      "0\n",
      "0\n",
      "1\n",
      "5\n",
      "14\n",
      "[[14]]\n",
      "[[14]]\n"
     ]
    }
   ],
   "source": [
    "#__str__\n",
    "print(A)\n",
    "#__len__\n",
    "print(len(A))\n",
    "#shape()\n",
    "print(A.shape())\n",
    "#indexamiento\n",
    "print(A.getitem(0,1))\n",
    "#suma\n",
    "print(A+A)\n",
    "#resta\n",
    "print(A-A)\n",
    "#transpuesta\n",
    "print(A.transpose())\n",
    "#producto\n",
    "print(A*A.transpose())"
   ]
  },
  {
   "cell_type": "markdown",
   "metadata": {},
   "source": [
    "### Validaciones"
   ]
  },
  {
   "cell_type": "code",
   "execution_count": 448,
   "metadata": {},
   "outputs": [
    {
     "ename": "ValueError",
     "evalue": "La dimensión de las matrices debe ser la misma",
     "output_type": "error",
     "traceback": [
      "\u001b[1;31m---------------------------------------------------------------------------\u001b[0m",
      "\u001b[1;31mValueError\u001b[0m                                Traceback (most recent call last)",
      "\u001b[1;32m<ipython-input-448-17a53b3d2418>\u001b[0m in \u001b[0;36m<module>\u001b[1;34m\u001b[0m\n\u001b[1;32m----> 1\u001b[1;33m \u001b[0mA\u001b[0m\u001b[1;33m+\u001b[0m\u001b[0mB\u001b[0m\u001b[1;33m\u001b[0m\u001b[1;33m\u001b[0m\u001b[0m\n\u001b[0m",
      "\u001b[1;32m<ipython-input-286-437866cbad4c>\u001b[0m in \u001b[0;36m__add__\u001b[1;34m(self, other)\u001b[0m\n\u001b[0;32m     42\u001b[0m             \u001b[1;32mreturn\u001b[0m \u001b[0mMyMatrix\u001b[0m\u001b[1;33m(\u001b[0m\u001b[0msum_matrix\u001b[0m\u001b[1;33m)\u001b[0m\u001b[1;33m\u001b[0m\u001b[1;33m\u001b[0m\u001b[0m\n\u001b[0;32m     43\u001b[0m         \u001b[1;32melse\u001b[0m\u001b[1;33m:\u001b[0m\u001b[1;33m\u001b[0m\u001b[1;33m\u001b[0m\u001b[0m\n\u001b[1;32m---> 44\u001b[1;33m             \u001b[1;32mraise\u001b[0m \u001b[0mValueError\u001b[0m\u001b[1;33m(\u001b[0m\u001b[1;34m\"La dimensión de las matrices debe ser la misma\"\u001b[0m\u001b[1;33m)\u001b[0m\u001b[1;33m\u001b[0m\u001b[1;33m\u001b[0m\u001b[0m\n\u001b[0m\u001b[0;32m     45\u001b[0m \u001b[1;33m\u001b[0m\u001b[0m\n\u001b[0;32m     46\u001b[0m \u001b[1;33m\u001b[0m\u001b[0m\n",
      "\u001b[1;31mValueError\u001b[0m: La dimensión de las matrices debe ser la misma"
     ]
    }
   ],
   "source": [
    "A+B"
   ]
  },
  {
   "cell_type": "code",
   "execution_count": 450,
   "metadata": {},
   "outputs": [
    {
     "ename": "ValueError",
     "evalue": "La dimensión de las matrices debe ser la misma",
     "output_type": "error",
     "traceback": [
      "\u001b[1;31m---------------------------------------------------------------------------\u001b[0m",
      "\u001b[1;31mValueError\u001b[0m                                Traceback (most recent call last)",
      "\u001b[1;32m<ipython-input-450-ca2486c81344>\u001b[0m in \u001b[0;36m<module>\u001b[1;34m\u001b[0m\n\u001b[1;32m----> 1\u001b[1;33m \u001b[0mA\u001b[0m\u001b[1;33m-\u001b[0m\u001b[0mB\u001b[0m\u001b[1;33m\u001b[0m\u001b[1;33m\u001b[0m\u001b[0m\n\u001b[0m",
      "\u001b[1;32m<ipython-input-286-437866cbad4c>\u001b[0m in \u001b[0;36m__sub__\u001b[1;34m(self, other)\u001b[0m\n\u001b[0;32m     55\u001b[0m             \u001b[1;32mreturn\u001b[0m \u001b[0mMyMatrix\u001b[0m\u001b[1;33m(\u001b[0m\u001b[0msub_matrix\u001b[0m\u001b[1;33m)\u001b[0m\u001b[1;33m\u001b[0m\u001b[1;33m\u001b[0m\u001b[0m\n\u001b[0;32m     56\u001b[0m         \u001b[1;32melse\u001b[0m\u001b[1;33m:\u001b[0m\u001b[1;33m\u001b[0m\u001b[1;33m\u001b[0m\u001b[0m\n\u001b[1;32m---> 57\u001b[1;33m             \u001b[1;32mraise\u001b[0m \u001b[0mValueError\u001b[0m\u001b[1;33m(\u001b[0m\u001b[1;34m\"La dimensión de las matrices debe ser la misma\"\u001b[0m\u001b[1;33m)\u001b[0m\u001b[1;33m\u001b[0m\u001b[1;33m\u001b[0m\u001b[0m\n\u001b[0m\u001b[0;32m     58\u001b[0m     \u001b[1;32mdef\u001b[0m \u001b[0m__mul__\u001b[0m\u001b[1;33m(\u001b[0m\u001b[0mself\u001b[0m\u001b[1;33m,\u001b[0m \u001b[0mother\u001b[0m\u001b[1;33m)\u001b[0m\u001b[1;33m:\u001b[0m\u001b[1;33m\u001b[0m\u001b[1;33m\u001b[0m\u001b[0m\n\u001b[0;32m     59\u001b[0m         \u001b[1;31m#Método de multiplicación de matrices. Debe entregar una excepción si se intenta multiplicar matrices de tamaño no adecuado para multiplicación matricial.\u001b[0m\u001b[1;33m\u001b[0m\u001b[1;33m\u001b[0m\u001b[1;33m\u001b[0m\u001b[0m\n",
      "\u001b[1;31mValueError\u001b[0m: La dimensión de las matrices debe ser la misma"
     ]
    }
   ],
   "source": [
    "A-B"
   ]
  },
  {
   "cell_type": "code",
   "execution_count": 451,
   "metadata": {},
   "outputs": [
    {
     "ename": "ValueError",
     "evalue": "El número de columnas de la primera matriz debe ser igual al número de filas de la segunda",
     "output_type": "error",
     "traceback": [
      "\u001b[1;31m---------------------------------------------------------------------------\u001b[0m",
      "\u001b[1;31mValueError\u001b[0m                                Traceback (most recent call last)",
      "\u001b[1;32m<ipython-input-451-47896efed660>\u001b[0m in \u001b[0;36m<module>\u001b[1;34m\u001b[0m\n\u001b[1;32m----> 1\u001b[1;33m \u001b[0mA\u001b[0m\u001b[1;33m*\u001b[0m\u001b[0mB\u001b[0m\u001b[1;33m\u001b[0m\u001b[1;33m\u001b[0m\u001b[0m\n\u001b[0m",
      "\u001b[1;32m<ipython-input-286-437866cbad4c>\u001b[0m in \u001b[0;36m__mul__\u001b[1;34m(self, other)\u001b[0m\n\u001b[0;32m     74\u001b[0m \u001b[1;33m\u001b[0m\u001b[0m\n\u001b[0;32m     75\u001b[0m         \u001b[1;32melse\u001b[0m\u001b[1;33m:\u001b[0m\u001b[1;33m\u001b[0m\u001b[1;33m\u001b[0m\u001b[0m\n\u001b[1;32m---> 76\u001b[1;33m             \u001b[1;32mraise\u001b[0m \u001b[0mValueError\u001b[0m\u001b[1;33m(\u001b[0m\u001b[1;34m\"El número de columnas de la primera matriz debe ser igual al número de filas de la segunda\"\u001b[0m\u001b[1;33m)\u001b[0m\u001b[1;33m\u001b[0m\u001b[1;33m\u001b[0m\u001b[0m\n\u001b[0m\u001b[0;32m     77\u001b[0m \u001b[1;33m\u001b[0m\u001b[0m\n\u001b[0;32m     78\u001b[0m \u001b[1;33m\u001b[0m\u001b[0m\n",
      "\u001b[1;31mValueError\u001b[0m: El número de columnas de la primera matriz debe ser igual al número de filas de la segunda"
     ]
    }
   ],
   "source": [
    "A*B"
   ]
  },
  {
   "cell_type": "markdown",
   "metadata": {},
   "source": [
    "# 2. Implemente función de correlación (1 pto)\n",
    "\n",
    "Cree una función para calcular la covarianza entre dos vectores de tipo numpy array, considerando que la varianza muestrale viene dada por la siguiente formula:\n",
    "\n",
    "$$ corr(X, Y) = \\frac{\\sum_{i=1}^{N} (X_{i}-\\bar{X})(Y_{i}-\\bar{Y})}{\\sqrt{\\sum_{i=1}^{N}(X_{i}-\\bar{X})^{2}}\\sqrt{\\sum_{i=1}^{N}(Y_{i}-\\bar{Y})^{2}}}$$\n",
    "\n",
    "No deben usar el método mean, std, cov, sum o similares de numpy. <br>\n",
    "Considere que X e Y son vectores de igual dimensión.\n",
    "\n",
    "def corr(x, y):\n",
    "\n",
    "    ...."
   ]
  },
  {
   "cell_type": "code",
   "execution_count": 290,
   "metadata": {},
   "outputs": [],
   "source": [
    "import numpy as np"
   ]
  },
  {
   "cell_type": "code",
   "execution_count": 297,
   "metadata": {},
   "outputs": [],
   "source": [
    "def mean(x):\n",
    "    N = len(x)\n",
    "    suma = 0\n",
    "    for i in range(N):\n",
    "        suma+=x[i]\n",
    "    return suma/N\n",
    "    \n",
    "def corr(x, y):\n",
    "    N = len(x)\n",
    "    mean_x = mean(x)\n",
    "    mean_y = mean(y)\n",
    "    n = 0\n",
    "    d1 = 0\n",
    "    d2 = 0\n",
    "    for i in range(N):\n",
    "        n+= (x[i]-mean_x)*(y[i]-mean_y)\n",
    "        d1+= (x[i]-mean_x)**2\n",
    "        d2+= (y[i]-mean_y)**2\n",
    "    \n",
    "    return n/(d1**(1/2)*d2**(1/2))"
   ]
  },
  {
   "cell_type": "code",
   "execution_count": 301,
   "metadata": {},
   "outputs": [
    {
     "name": "stdout",
     "output_type": "stream",
     "text": [
      "0.9393364366277241\n",
      "0.9393364366277243\n"
     ]
    }
   ],
   "source": [
    "#Prueba\n",
    "x = np.array([1, 2, 3, 4])\n",
    "y = np.array([2, 2, 5, 6])\n",
    "print(corr(x,y))\n",
    "print(np.corrcoef(x,y)[0, 1])"
   ]
  },
  {
   "cell_type": "markdown",
   "metadata": {},
   "source": [
    "# 3. Implemente función que generé una matriz aleatoria simétrica (1 pto)\n",
    "\n",
    "def matriz_simetrica(n):\n",
    "\n",
    "    ...\n",
    "\n",
    "n = dimensión de la matriz cuadrada"
   ]
  },
  {
   "cell_type": "code",
   "execution_count": 302,
   "metadata": {},
   "outputs": [],
   "source": [
    "import random"
   ]
  },
  {
   "cell_type": "code",
   "execution_count": 375,
   "metadata": {},
   "outputs": [],
   "source": [
    "def matriz_simetrica(n):\n",
    "    random_matrix = np.array([[random.randint(1, 10) for i in range(n)] for i in range(n)])\n",
    "    #random_matrix = np.random.randint(1, 10, (n,n))\n",
    "    return random_matrix.T+random_matrix"
   ]
  },
  {
   "cell_type": "code",
   "execution_count": 389,
   "metadata": {},
   "outputs": [
    {
     "data": {
      "text/plain": [
       "array([[14, 17, 14, 13, 16],\n",
       "       [17, 12, 16, 14, 16],\n",
       "       [14, 16, 16, 17,  7],\n",
       "       [13, 14, 17,  4, 11],\n",
       "       [16, 16,  7, 11,  6]])"
      ]
     },
     "execution_count": 389,
     "metadata": {},
     "output_type": "execute_result"
    }
   ],
   "source": [
    "simetric_matrix = matriz_simetrica(5)\n",
    "simetric_matrix"
   ]
  },
  {
   "cell_type": "markdown",
   "metadata": {},
   "source": [
    "## 4. Matplotlib (1pto) \n",
    "(0.4 ptos)\n",
    "### 1. En una misma visualización dibujar (x, f) y (x, g), donde:\n",
    "1. X es un vector de 1000 muestras equiespaciadas en el intervalo [-2, 2]\n",
    "2. $f(x) = \\sqrt{1- (|x|-1)^{2}}, \\forall x \\in X $  \n",
    "3. $g(x) = -3\\sqrt{1- \\sqrt{\\frac{|x|}{2}}}, \\forall x \\in X $  \n",
    "\n",
    "(0.4 ptos)    \n",
    "### 2. En una misma visualización dibujar (x1, y1) y (x2, y1), donde:\n",
    "1. X1 es un vector de 100 muestras equi-espaciadas en el intervalo [0, 5]\n",
    "2. X2 es un vector de 100 muestras equi-espaciadas en el intervalo [0, 2] \n",
    "3. $y1 =  cos(2\\pi x1)\\exp(-x1),  \\forall x1 \\in X1$\n",
    "4. $y2 =  cos(2\\pi x2), \\forall x2 \\in X2$\n",
    "   \n",
    "(0.2 ptos)\n",
    "\n",
    "Además diseñe un estilo por defecto para los gráficos que al menos cambie colores, tamaño imagen\n",
    "y tamaño de textos ."
   ]
  },
  {
   "cell_type": "code",
   "execution_count": 390,
   "metadata": {},
   "outputs": [],
   "source": [
    "import matplotlib.pyplot as plt"
   ]
  },
  {
   "cell_type": "code",
   "execution_count": 440,
   "metadata": {},
   "outputs": [],
   "source": [
    "#new style\n",
    "plt.rcParams['figure.figsize'] = (5, 5)                     #tamaño de las figuras\n",
    "plt.rcParams['text.color']='k'                              #color del texto(labels y titulo)\n",
    "plt.rcParams['axes.labelsize']=20                           #tamaño de los labels\n",
    "plt.rcParams['axes.titlesize']=25                           #tamaño del titulo\n",
    "plt.rcParams['xtick.labelsize']=15                          #tamaño del xvalue\n",
    "plt.rcParams['ytick.labelsize']=15                          #tamaño del yvalue\n",
    "plt.rcParams['figure.facecolor']='white'                    #color del marco que rodea la figura\n",
    "plt.rcParams['axes.grid']=True                              #grilla\n",
    "plt.rcParams['axes.linewidth']= 2.0                         #ancho del margen de la figura\n",
    "plt.rcParams['axes.xmargin']= 0.05                          #margen eje x\n",
    "plt.rcParams['axes.ymargin']= 0.05                          #margen eje y\n",
    "plt.rcParams['axes.labelcolor']='k'                         #color de los label\n",
    "plt.rcParams['axes.edgecolor']= 'grey'                      #color del margen de la figura\n",
    "plt.rcParams['axes.facecolor']='whitesmoke'                 #color del fondo"
   ]
  },
  {
   "cell_type": "code",
   "execution_count": 441,
   "metadata": {},
   "outputs": [
    {
     "data": {
      "text/plain": [
       "[<matplotlib.lines.Line2D at 0x1c5e66d8048>]"
      ]
     },
     "execution_count": 441,
     "metadata": {},
     "output_type": "execute_result"
    },
    {
     "data": {
      "image/png": "[encoded data removed]",
      "text/plain": [
       "<Figure size 360x360 with 1 Axes>"
      ]
     },
     "metadata": {},
     "output_type": "display_data"
    }
   ],
   "source": [
    "x = np.linspace(-2, 2, 1000)\n",
    "f = [(1-(np.abs(elem)-1)**2)**(1/2) for elem in x]\n",
    "g = [-3*(1-(np.abs(elem)/2)**(1/2))**(1/2) for elem in x]\n",
    "\n",
    "plt.plot(x, f)\n",
    "plt.plot(x, g)"
   ]
  },
  {
   "cell_type": "code",
   "execution_count": 445,
   "metadata": {},
   "outputs": [
    {
     "data": {
      "text/plain": [
       "Text(0.5, 1.0, 'Serie')"
      ]
     },
     "execution_count": 445,
     "metadata": {},
     "output_type": "execute_result"
    },
    {
     "data": {
      "image/png": "[encoded data removed]",
      "text/plain": [
       "<Figure size 1080x360 with 1 Axes>"
      ]
     },
     "metadata": {},
     "output_type": "display_data"
    }
   ],
   "source": [
    "x1 = np.linspace(0, 5, 100)\n",
    "x2 = np.linspace(0, 2, 100)\n",
    "y1 = [np.cos(2*np.pi*elem)*np.exp(-elem) for elem in x1]\n",
    "y2 = [np.cos(2*np.pi*elem) for elem in x2]\n",
    "\n",
    "plt.figure(1, (15, 5))\n",
    "plt.plot(x1, y1, 'o-', label='y1')\n",
    "plt.plot(x2, y2, '.-', label='y2')\n",
    "plt.legend()\n",
    "plt.ylabel('Y')\n",
    "plt.xlabel('X')\n",
    "plt.title('Serie')"
   ]
  }
 ],
 "metadata": {
  "kernelspec": {
   "display_name": "Python 3",
   "language": "python",
   "name": "python3"
  },
  "language_info": {
   "codemirror_mode": {
    "name": "ipython",
    "version": 3
   },
   "file_extension": ".py",
   "mimetype": "text/x-python",
   "name": "python",
   "nbconvert_exporter": "python",
   "pygments_lexer": "ipython3",
   "version": "3.7.1"
  },
  "latex_envs": {
   "LaTeX_envs_menu_present": true,
   "autoclose": false,
   "autocomplete": true,
   "bibliofile": "biblio.bib",
   "cite_by": "apalike",
   "current_citInitial": 1,
   "eqLabelWithNumbers": true,
   "eqNumInitial": 1,
   "hotkeys": {
    "equation": "Ctrl-E",
    "itemize": "Ctrl-I"
   },
   "labels_anchors": false,
   "latex_user_defs": false,
   "report_style_numbering": false,
   "user_envs_cfg": false
  }
 },
 "nbformat": 4,
 "nbformat_minor": 2
}
